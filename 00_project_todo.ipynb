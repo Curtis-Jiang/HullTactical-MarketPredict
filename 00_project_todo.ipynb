{
 "cells": [
  {
   "cell_type": "markdown",
   "id": "53be7760",
   "metadata": {},
   "source": [
    "# Hull Tactical Market Prediction 执行工作簿\n",
    "\n",
    "本 Notebook 用于按照阶段推进 Kaggle Hull Tactical Market Prediction 项目。建议按顺序执行每个单元，并在完成后在 TODO 列表中勾选对应项。"
   ]
  },
  {
   "cell_type": "markdown",
   "id": "01db51ed",
   "metadata": {},
   "source": [
    "## TODO 总览（按阶段）\n",
    "\n",
    "- [✅] P0 环境：使用 Conda 创建并激活项目环境\n",
    "- [✅] P0 环境：运行 `pip install -r requirements.txt` 安装依赖\n",
    "- [✅] P1 数据：确认 Kaggle 官方 `train.csv` 与 `test.csv` 已放入 `data/raw/`\n",
    "- [✅] P1 数据：调用 `load_raw_data` 校验 `train.csv`\n",
    "- [✅] P1 数据：调用 `load_raw_data` 校验 `test.csv`\n",
    "- [ ] P1 数据：记录并分析缺失值分布\n",
    "- [ ] P2 EDA：分析目标分布与时间趋势\n",
    "- [ ] P2 EDA：探索主要特征的统计特性与相关性\n",
    "- [ ] P3 特征：定义 `configs/features.yml` 并实现特征流水线\n",
    "- [ ] P3 特征：生成并保存 `data/processed/` 特征数据\n",
    "- [ ] P4 模型：训练 LightGBM 基线并输出验证指标\n",
    "- [ ] P4 模型：记录实验配置与指标至 `experiments/`\n",
    "- [ ] P5 推理：使用最新模型生成 `submission.csv`\n",
    "- [ ] P5 推理：提交结果到 Kaggle 并记录线上得分"
   ]
  },
  {
   "cell_type": "markdown",
   "id": "66c634bb",
   "metadata": {},
   "source": [
    "## 阶段 P1 — 数据落地与校验\n",
    "\n",
    "目标：确保原始数据文件存在且结构与预期一致，输出基础缺失率统计，为后续特征工程提供依据。\n",
    "\n",
    "执行指引：\n",
    "1. 运行下面的“路径与日志配置”单元，确认数据文件可访问。\n",
    "2. 依次运行 `train.csv` 与 `test.csv` 校验单元，观察日志输出。\n",
    "3. 使用缺失值汇总表梳理需要重点处理的列，并在 `docs/eda_report.md` 中记录结论。"
   ]
  },
  {
   "cell_type": "code",
   "execution_count": null,
   "id": "ecab6332",
   "metadata": {},
   "outputs": [],
   "source": [
    "import logging\n",
    "from pathlib import Path\n",
    "\n",
    "import pandas as pd\n",
    "\n",
    "from src.data import load_raw_data\n",
    "\n",
    "logging.basicConfig(\n",
    "    level=logging.INFO,\n",
    "    format=\"%(levelname)s:%(name)s:%(message)s\",\n",
    "    force=True,\n",
    ")\n",
    "\n",
    "pd.set_option(\"display.max_columns\", 20)\n",
    "\n",
    "RAW_DATA_DIR = Path(\"data/raw\")\n",
    "TRAIN_FILE = RAW_DATA_DIR / \"train.csv\"\n",
    "TEST_FILE = RAW_DATA_DIR / \"test.csv\"\n",
    "\n",
    "print(f\"Train file located at: {TRAIN_FILE.resolve()}\")\n",
    "print(f\"Test file located at: {TEST_FILE.resolve()}\")\n",
    "\n",
    "assert TRAIN_FILE.exists(), \"未找到 train.csv，请确认文件已放置在 data/raw/ 目录。\"\n",
    "assert TEST_FILE.exists(), \"未找到 test.csv，请确认文件已放置在 data/raw/ 目录。\""
   ]
  },
  {
   "cell_type": "code",
   "execution_count": null,
   "id": "4aeb9d23",
   "metadata": {},
   "outputs": [],
   "source": [
    "TRAIN_REQUIRED_COLUMNS = [\n",
    "    \"date_id\",\n",
    "    \"forward_returns\",\n",
    "    \"risk_free_rate\",\n",
    "    \"market_forward_excess_returns\",\n",
    "]\n",
    "\n",
    "train_df = load_raw_data(\n",
    "    TRAIN_FILE,\n",
    "    required_columns=TRAIN_REQUIRED_COLUMNS,\n",
    ")\n",
    "\n",
    "print(f\"train_df shape: {train_df.shape}\")\n",
    "train_df.head()"
   ]
  },
  {
   "cell_type": "code",
   "execution_count": null,
   "id": "a6ab2a71",
   "metadata": {},
   "outputs": [],
   "source": [
    "TEST_REQUIRED_COLUMNS = [\n",
    "    \"date_id\",\n",
    "    \"is_scored\",\n",
    "    \"lagged_forward_returns\",\n",
    "    \"lagged_risk_free_rate\",\n",
    "    \"lagged_market_forward_excess_returns\",\n",
    "]\n",
    "\n",
    "test_df = load_raw_data(\n",
    "    TEST_FILE,\n",
    "    required_columns=TEST_REQUIRED_COLUMNS,\n",
    ")\n",
    "\n",
    "print(f\"test_df shape: {test_df.shape}\")\n",
    "test_df.head()"
   ]
  },
  {
   "cell_type": "code",
   "execution_count": null,
   "id": "25512f91",
   "metadata": {},
   "outputs": [],
   "source": [
    "def summarize_missing(df: pd.DataFrame, dataset: str, top_n: int = 10) -> pd.DataFrame:\n",
    "    if df.empty:\n",
    "        return pd.DataFrame(columns=[\"dataset\", \"column\", \"missing_count\", \"missing_ratio\"])\n",
    "\n",
    "    missing_counts = df.isna().sum()\n",
    "    total_missing = int(missing_counts.sum())\n",
    "    total_cells = df.shape[0] * df.shape[1]\n",
    "    overall_ratio = total_missing / total_cells if total_cells else 0.0\n",
    "    print(f\"{dataset}: total missing values = {total_missing} ({overall_ratio:.2%} of all cells)\")\n",
    "\n",
    "    summary = (\n",
    "        pd.DataFrame(\n",
    "            {\n",
    "                \"column\": missing_counts.index,\n",
    "                \"missing_count\": missing_counts.values,\n",
    "                \"missing_ratio\": (missing_counts / len(df)).values,\n",
    "            }\n",
    "        )\n",
    "        .sort_values(\"missing_ratio\", ascending=False)\n",
    "    )\n",
    "    summary = summary[summary[\"missing_count\"] > 0]\n",
    "    summary.insert(0, \"dataset\", dataset)\n",
    "    return summary.head(top_n)\n",
    "\n",
    "missing_overview = pd.concat(\n",
    "    [\n",
    "        summarize_missing(train_df, \"train\", top_n=10),\n",
    "        summarize_missing(test_df, \"test\", top_n=10),\n",
    "    ],\n",
    "    ignore_index=True,\n",
    ")\n",
    "\n",
    "missing_overview"
   ]
  },
  {
   "cell_type": "markdown",
   "id": "03691fa8",
   "metadata": {},
   "source": [
    "### 记录清洗观察\n",
    "\n",
    "- 将缺失率较高的列记录到 `docs/eda_report.md`。\n",
    "- 针对训练集的目标列（`forward_returns`）检查是否存在异常值或缺失。\n",
    "- 思考是否需要在特征工程阶段填充、截断或派生新特征。"
   ]
  },
  {
   "cell_type": "markdown",
   "id": "9c7cae8c",
   "metadata": {},
   "source": [
    "## 阶段 P2 — 探索性数据分析（EDA） TODO Maybe\n",
    "\n",
    "目标：理解目标分布、时间序列特征和特征之间的关系，为后续特征工程提供依据。\n",
    "\n",
    "建议步骤：\n",
    "1. 观察目标变量的分布（直方图、箱线图）。\n",
    "2. 分析目标随时间的趋势（滚动平均、按日期分组）。\n",
    "3. 检查特征之间的相关性以及与目标的关系。\n",
    "4. 输出关键图表到 `reports/figures/` 并在文档中记录发现。"
   ]
  },
  {
   "cell_type": "code",
   "execution_count": null,
   "id": "74772cc4",
   "metadata": {},
   "outputs": [],
   "source": [
    "# TODO: 根据需要调整目标列名称和绘图参数\n",
    "#target_column = \"forward_returns\"\n",
    "\n",
    "#print(\"目标列描述性统计：\")\n",
    "#train_df[target_column].describe()\n",
    "\n",
    "# TODO: 取消下列注释以绘制目标分布\n",
    "# import matplotlib.pyplot as plt\n",
    "# import seaborn as sns\n",
    "# fig, axes = plt.subplots(1, 2, figsize=(12, 4))\n",
    "# sns.histplot(train_df[target_column], bins=100, ax=axes[0])\n",
    "# axes[0].set_title(\"forward_returns 分布\")\n",
    "# sns.boxplot(x=train_df[target_column], ax=axes[1])\n",
    "# axes[1].set_title(\"forward_returns 箱线图\")\n",
    "# plt.tight_layout()\n",
    "\n",
    "# TODO: 计算并可视化按日期的平均目标值\n",
    "# rolling_mean = train_df.groupby(\"date_id\")[target_column].mean().rolling(window=30).mean()\n",
    "# rolling_mean.plot(title=\"Rolling 30-day mean of forward_returns\", figsize=(12, 4))"
   ]
  },
  {
   "cell_type": "markdown",
   "id": "3e442740",
   "metadata": {},
   "source": [
    "## 阶段 P3 — 特征工程\n",
    "\n",
    "目标：构建可复用的特征流水线，生成 `data/processed/` 数据供训练与推理共用。\n",
    "⚠️ 特征处理的逻辑是在 docs/eda_report.md 和 eda.log的基础上\n",
    "\n",
    "建议步骤：\n",
    "- 在 `configs/features.yml` 描述滞后、滚动窗口等参数。\n",
    "- 在 `src/build_features.py` 中实现 `build_features()`。\n",
    "- 在本 Notebook 中验证特征输出，并写入 `data/processed/train_features.parquet` / `test_features.parquet`。"
   ]
  },
  {
   "cell_type": "code",
   "execution_count": 8,
   "id": "6a441bdd",
   "metadata": {},
   "outputs": [
    {
     "ename": "NameError",
     "evalue": "name 'nvidia' is not defined",
     "output_type": "error",
     "traceback": [
      "\u001b[0;31m---------------------------------------------------------------------------\u001b[0m",
      "\u001b[0;31mNameError\u001b[0m                                 Traceback (most recent call last)",
      "Cell \u001b[0;32mIn[8], line 5\u001b[0m\n\u001b[1;32m      1\u001b[0m \u001b[38;5;66;03m# The following line is a shell command and should be run in a notebook cell with a leading \"!\".\u001b[39;00m\n\u001b[1;32m      2\u001b[0m \u001b[38;5;66;03m# If you want to execute the build_features script from within Python, you should import and call the function directly.\u001b[39;00m\n\u001b[1;32m      3\u001b[0m \u001b[38;5;66;03m# Otherwise, to run the shell command, use:\u001b[39;00m\n\u001b[1;32m      4\u001b[0m \u001b[38;5;66;03m#!python src/build_features.py --config configs/features.yml\u001b[39;00m\n\u001b[0;32m----> 5\u001b[0m \u001b[43mnvidia\u001b[49m\u001b[38;5;241m-\u001b[39msmi\n\u001b[1;32m      6\u001b[0m \u001b[38;5;66;03m# with open(\"configs/features.yml\", \"r\") as f:\u001b[39;00m\n\u001b[1;32m      7\u001b[0m \u001b[38;5;66;03m#     feature_config = yaml.safe_load(f)\u001b[39;00m\n\u001b[1;32m      8\u001b[0m \n\u001b[0;32m   (...)\u001b[0m\n\u001b[1;32m     16\u001b[0m \n\u001b[1;32m     17\u001b[0m \u001b[38;5;66;03m# train_features.head()\u001b[39;00m\n",
      "\u001b[0;31mNameError\u001b[0m: name 'nvidia' is not defined"
     ]
    }
   ],
   "source": [
    "\n",
    "# The following line is a shell command and should be run in a notebook cell with a leading \"!\".\n",
    "# If you want to execute the build_features script from within Python, you should import and call the function directly.\n",
    "# Otherwise, to run the shell command, use:\n",
    "#!python src/build_features.py --config configs/features.yml\n",
    "nvidia-smi\n",
    "# with open(\"configs/features.yml\", \"r\") as f:\n",
    "#     feature_config = yaml.safe_load(f)\n",
    "\n",
    "# feature_builder = FeatureBuilder(feature_config)\n",
    "# feature_builder.fit(train_df)\n",
    "# train_features = feature_builder.transform(train_df)\n",
    "# test_features = feature_builder.transform(test_df)\n",
    "\n",
    "# print(f\"train_features shape: {train_features.shape}\")\n",
    "# print(f\"test_features shape: {test_features.shape}\")\n",
    "\n",
    "# train_features.head()"
   ]
  },
  {
   "cell_type": "markdown",
   "id": "7b4c04d2",
   "metadata": {},
   "source": [
    "## 阶段 P4 — 模型训练与验证\n",
    "\n",
    "目标：建立基线模型，评估表现并记录实验结果。\n",
    "\n",
    "建议步骤：\n",
    "1. 在 `configs/model_lgbm.yml` 维护模型参数。\n",
    "2. 实现 `src/models.py` 和 `src/train.py`，支持命令行训练。\n",
    "3. 使用时间序列切分进行验证，并将指标、特征重要性写入 `experiments/`。"
   ]
  },
  {
   "cell_type": "code",
   "execution_count": null,
   "id": "b5f536f8",
   "metadata": {},
   "outputs": [],
   "source": [
    "# TODO: 待完成训练脚本后使用以下代码片段触发训练\n",
    "# from src.train import train_model\n",
    "# train_model(config_path=\"configs/model_lgbm.yml\")"
   ]
  },
  {
   "cell_type": "markdown",
   "id": "b4d45984",
   "metadata": {},
   "source": [
    "## 阶段 P5 — 推理与提交\n",
    "\n",
    "目标：使用训练好的模型生成提交文件，并在 Kaggle 上提交。\n",
    "\n",
    "建议步骤：\n",
    "- 在 `src/predict.py` 实现推理入口，确保与训练阶段使用相同的特征流水线。\n",
    "- 使用下方模板调用推理逻辑生成 `data/submissions/submission_<run>.csv`。\n",
    "- 使用 `kaggle competitions submit` 提交，并记录分数。"
   ]
  },
  {
   "cell_type": "code",
   "execution_count": null,
   "id": "c76c175f",
   "metadata": {},
   "outputs": [],
   "source": [
    "# TODO: 完成推理脚本后在此运行\n",
    "# from src.predict import generate_submission\n",
    "# generate_submission(\n",
    "#     config_path=\"configs/model_lgbm.yml\",\n",
    "#     model_path=\"experiments/<timestamp>/model.pkl\",\n",
    "#     output_path=\"data/submissions/submission_<run>.csv\",\n",
    "# )"
   ]
  },
  {
   "cell_type": "markdown",
   "id": "f968c6a8",
   "metadata": {},
   "source": [
    "## 备注与下一步\n",
    "\n",
    "- 每完成一个阶段请同步更新 `README.md` 与 `docs/eda_report.md`。\n",
    "- 若发现新的风险或假设，及时在此 Notebook 或文档中补充。\n",
    "- 建议将本 Notebook 的执行记录（输出/图表）与 Git 提交关联，便于复现。"
   ]
  }
 ],
 "metadata": {
  "kernelspec": {
   "display_name": "hull",
   "language": "python",
   "name": "python3"
  },
  "language_info": {
   "codemirror_mode": {
    "name": "ipython",
    "version": 3
   },
   "file_extension": ".py",
   "mimetype": "text/x-python",
   "name": "python",
   "nbconvert_exporter": "python",
   "pygments_lexer": "ipython3",
   "version": "3.10.18"
  }
 },
 "nbformat": 4,
 "nbformat_minor": 5
}
